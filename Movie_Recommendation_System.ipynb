{
  "nbformat": 4,
  "nbformat_minor": 0,
  "metadata": {
    "colab": {
      "provenance": [],
      "authorship_tag": "ABX9TyO9VlpzZDNxi0zLO/7bfBne",
      "include_colab_link": true
    },
    "kernelspec": {
      "name": "python3",
      "display_name": "Python 3"
    },
    "language_info": {
      "name": "python"
    }
  },
  "cells": [
    {
      "cell_type": "markdown",
      "metadata": {
        "id": "view-in-github",
        "colab_type": "text"
      },
      "source": [
        "<a href=\"https://colab.research.google.com/github/koushik395/MOVIE-RECOMMENDATION-SYSTEM/blob/main/Movie_Recommendation_System.ipynb\" target=\"_parent\"><img src=\"https://colab.research.google.com/assets/colab-badge.svg\" alt=\"Open In Colab\"/></a>"
      ]
    },
    {
      "cell_type": "code",
      "execution_count": null,
      "metadata": {
        "id": "Vr4klOhW3GdQ"
      },
      "outputs": [],
      "source": [
        "import numpy as np\n",
        "import pandas as pd\n",
        "from urllib.request import urlretrieve\n",
        "import zipfile\n",
        "\n",
        "\n",
        "#Downloading movielens data...\n",
        "urlretrieve(\"http://files.grouplens.org/datasets/movielens/ml-100k.zip\", \"movielens.zip\")\n",
        "zip_ref = zipfile.ZipFile('movielens.zip', \"r\")  #This method reads data from a particular file in the archive.\n",
        "zip_ref.extractall() #This method extracts all files in the archive to current directory by default"
      ]
    },
    {
      "cell_type": "code",
      "source": [
        "!ls -lrt"
      ],
      "metadata": {
        "colab": {
          "base_uri": "https://localhost:8080/"
        },
        "id": "0lpZE2kX3MHf",
        "outputId": "3943f9c4-68dd-4ff0-fcef-e3c14011bcb1"
      },
      "execution_count": null,
      "outputs": [
        {
          "output_type": "stream",
          "name": "stdout",
          "text": [
            "total 4820\n",
            "drwxr-xr-x 1 root root    4096 Jan 30 14:38 sample_data\n",
            "drwxr-xr-x 2 root root    4096 Feb  1 16:08 ml-100k\n",
            "-rw-r--r-- 1 root root 4924029 Feb  1 16:45 movielens.zip\n"
          ]
        }
      ]
    },
    {
      "cell_type": "code",
      "source": [
        "# Load each data set (users, movies, and ratings).\n",
        "users_cols = ['user_id', 'age', 'sex', 'occupation', 'zip_code']\n",
        "users = pd.read_csv('ml-100k/u.user', sep='|', names=users_cols, encoding='latin-1')\n",
        "\n",
        "ratings_cols = ['user_id', 'movie_id', 'rating', 'unix_timestamp']\n",
        "ratings = pd.read_csv('ml-100k/u.data', sep='\\t', names=ratings_cols, encoding='latin-1')\n",
        "\n",
        "# The movies file contains a binary feature for each genre.\n",
        "genre_cols = [\n",
        "    \"genre_unknown\", \"Action\", \"Adventure\", \"Animation\", \"Children\", \"Comedy\",\n",
        "    \"Crime\", \"Documentary\", \"Drama\", \"Fantasy\", \"Film-Noir\", \"Horror\",\n",
        "    \"Musical\", \"Mystery\", \"Romance\", \"Sci-Fi\", \"Thriller\", \"War\", \"Western\"\n",
        "] \n",
        "movies_cols = [\n",
        "    'movie_id', 'title', 'release_date', \"video_release_date\", \"imdb_url\"\n",
        "] + genre_cols\n",
        "movies = pd.read_csv(\n",
        "    'ml-100k/u.item', sep='|', names=movies_cols, encoding='latin-1')"
      ],
      "metadata": {
        "id": "ndhgf_O73N-d"
      },
      "execution_count": null,
      "outputs": []
    },
    {
      "cell_type": "code",
      "source": [
        "# ratings matrix\n",
        "print(ratings.shape)"
      ],
      "metadata": {
        "colab": {
          "base_uri": "https://localhost:8080/"
        },
        "id": "avhvhkq53Qtm",
        "outputId": "a20758e5-b80c-4a94-cb19-f623cff08ce9"
      },
      "execution_count": null,
      "outputs": [
        {
          "output_type": "stream",
          "name": "stdout",
          "text": [
            "(100000, 4)\n"
          ]
        }
      ]
    },
    {
      "cell_type": "code",
      "source": [
        "ratings.head()"
      ],
      "metadata": {
        "colab": {
          "base_uri": "https://localhost:8080/",
          "height": 206
        },
        "id": "hWpcwZmV3Tcb",
        "outputId": "10591e04-b016-4a60-c071-87834f41df5f"
      },
      "execution_count": null,
      "outputs": [
        {
          "output_type": "execute_result",
          "data": {
            "text/plain": [
              "   user_id  movie_id  rating  unix_timestamp\n",
              "0      196       242       3       881250949\n",
              "1      186       302       3       891717742\n",
              "2       22       377       1       878887116\n",
              "3      244        51       2       880606923\n",
              "4      166       346       1       886397596"
            ],
            "text/html": [
              "\n",
              "  <div id=\"df-065cb715-f8f4-4a09-8230-6ecccc024153\">\n",
              "    <div class=\"colab-df-container\">\n",
              "      <div>\n",
              "<style scoped>\n",
              "    .dataframe tbody tr th:only-of-type {\n",
              "        vertical-align: middle;\n",
              "    }\n",
              "\n",
              "    .dataframe tbody tr th {\n",
              "        vertical-align: top;\n",
              "    }\n",
              "\n",
              "    .dataframe thead th {\n",
              "        text-align: right;\n",
              "    }\n",
              "</style>\n",
              "<table border=\"1\" class=\"dataframe\">\n",
              "  <thead>\n",
              "    <tr style=\"text-align: right;\">\n",
              "      <th></th>\n",
              "      <th>user_id</th>\n",
              "      <th>movie_id</th>\n",
              "      <th>rating</th>\n",
              "      <th>unix_timestamp</th>\n",
              "    </tr>\n",
              "  </thead>\n",
              "  <tbody>\n",
              "    <tr>\n",
              "      <th>0</th>\n",
              "      <td>196</td>\n",
              "      <td>242</td>\n",
              "      <td>3</td>\n",
              "      <td>881250949</td>\n",
              "    </tr>\n",
              "    <tr>\n",
              "      <th>1</th>\n",
              "      <td>186</td>\n",
              "      <td>302</td>\n",
              "      <td>3</td>\n",
              "      <td>891717742</td>\n",
              "    </tr>\n",
              "    <tr>\n",
              "      <th>2</th>\n",
              "      <td>22</td>\n",
              "      <td>377</td>\n",
              "      <td>1</td>\n",
              "      <td>878887116</td>\n",
              "    </tr>\n",
              "    <tr>\n",
              "      <th>3</th>\n",
              "      <td>244</td>\n",
              "      <td>51</td>\n",
              "      <td>2</td>\n",
              "      <td>880606923</td>\n",
              "    </tr>\n",
              "    <tr>\n",
              "      <th>4</th>\n",
              "      <td>166</td>\n",
              "      <td>346</td>\n",
              "      <td>1</td>\n",
              "      <td>886397596</td>\n",
              "    </tr>\n",
              "  </tbody>\n",
              "</table>\n",
              "</div>\n",
              "      <button class=\"colab-df-convert\" onclick=\"convertToInteractive('df-065cb715-f8f4-4a09-8230-6ecccc024153')\"\n",
              "              title=\"Convert this dataframe to an interactive table.\"\n",
              "              style=\"display:none;\">\n",
              "        \n",
              "  <svg xmlns=\"http://www.w3.org/2000/svg\" height=\"24px\"viewBox=\"0 0 24 24\"\n",
              "       width=\"24px\">\n",
              "    <path d=\"M0 0h24v24H0V0z\" fill=\"none\"/>\n",
              "    <path d=\"M18.56 5.44l.94 2.06.94-2.06 2.06-.94-2.06-.94-.94-2.06-.94 2.06-2.06.94zm-11 1L8.5 8.5l.94-2.06 2.06-.94-2.06-.94L8.5 2.5l-.94 2.06-2.06.94zm10 10l.94 2.06.94-2.06 2.06-.94-2.06-.94-.94-2.06-.94 2.06-2.06.94z\"/><path d=\"M17.41 7.96l-1.37-1.37c-.4-.4-.92-.59-1.43-.59-.52 0-1.04.2-1.43.59L10.3 9.45l-7.72 7.72c-.78.78-.78 2.05 0 2.83L4 21.41c.39.39.9.59 1.41.59.51 0 1.02-.2 1.41-.59l7.78-7.78 2.81-2.81c.8-.78.8-2.07 0-2.86zM5.41 20L4 18.59l7.72-7.72 1.47 1.35L5.41 20z\"/>\n",
              "  </svg>\n",
              "      </button>\n",
              "      \n",
              "  <style>\n",
              "    .colab-df-container {\n",
              "      display:flex;\n",
              "      flex-wrap:wrap;\n",
              "      gap: 12px;\n",
              "    }\n",
              "\n",
              "    .colab-df-convert {\n",
              "      background-color: #E8F0FE;\n",
              "      border: none;\n",
              "      border-radius: 50%;\n",
              "      cursor: pointer;\n",
              "      display: none;\n",
              "      fill: #1967D2;\n",
              "      height: 32px;\n",
              "      padding: 0 0 0 0;\n",
              "      width: 32px;\n",
              "    }\n",
              "\n",
              "    .colab-df-convert:hover {\n",
              "      background-color: #E2EBFA;\n",
              "      box-shadow: 0px 1px 2px rgba(60, 64, 67, 0.3), 0px 1px 3px 1px rgba(60, 64, 67, 0.15);\n",
              "      fill: #174EA6;\n",
              "    }\n",
              "\n",
              "    [theme=dark] .colab-df-convert {\n",
              "      background-color: #3B4455;\n",
              "      fill: #D2E3FC;\n",
              "    }\n",
              "\n",
              "    [theme=dark] .colab-df-convert:hover {\n",
              "      background-color: #434B5C;\n",
              "      box-shadow: 0px 1px 3px 1px rgba(0, 0, 0, 0.15);\n",
              "      filter: drop-shadow(0px 1px 2px rgba(0, 0, 0, 0.3));\n",
              "      fill: #FFFFFF;\n",
              "    }\n",
              "  </style>\n",
              "\n",
              "      <script>\n",
              "        const buttonEl =\n",
              "          document.querySelector('#df-065cb715-f8f4-4a09-8230-6ecccc024153 button.colab-df-convert');\n",
              "        buttonEl.style.display =\n",
              "          google.colab.kernel.accessAllowed ? 'block' : 'none';\n",
              "\n",
              "        async function convertToInteractive(key) {\n",
              "          const element = document.querySelector('#df-065cb715-f8f4-4a09-8230-6ecccc024153');\n",
              "          const dataTable =\n",
              "            await google.colab.kernel.invokeFunction('convertToInteractive',\n",
              "                                                     [key], {});\n",
              "          if (!dataTable) return;\n",
              "\n",
              "          const docLinkHtml = 'Like what you see? Visit the ' +\n",
              "            '<a target=\"_blank\" href=https://colab.research.google.com/notebooks/data_table.ipynb>data table notebook</a>'\n",
              "            + ' to learn more about interactive tables.';\n",
              "          element.innerHTML = '';\n",
              "          dataTable['output_type'] = 'display_data';\n",
              "          await google.colab.output.renderOutput(dataTable, element);\n",
              "          const docLink = document.createElement('div');\n",
              "          docLink.innerHTML = docLinkHtml;\n",
              "          element.appendChild(docLink);\n",
              "        }\n",
              "      </script>\n",
              "    </div>\n",
              "  </div>\n",
              "  "
            ]
          },
          "metadata": {},
          "execution_count": 5
        }
      ]
    },
    {
      "cell_type": "code",
      "source": [
        "movies.head()"
      ],
      "metadata": {
        "colab": {
          "base_uri": "https://localhost:8080/",
          "height": 438
        },
        "id": "RxxZhKL93VTe",
        "outputId": "d0eb099a-d2d5-4e08-b52f-89daf91c2b9f"
      },
      "execution_count": null,
      "outputs": [
        {
          "output_type": "execute_result",
          "data": {
            "text/plain": [
              "   movie_id              title release_date  video_release_date  \\\n",
              "0         1   Toy Story (1995)  01-Jan-1995                 NaN   \n",
              "1         2   GoldenEye (1995)  01-Jan-1995                 NaN   \n",
              "2         3  Four Rooms (1995)  01-Jan-1995                 NaN   \n",
              "3         4  Get Shorty (1995)  01-Jan-1995                 NaN   \n",
              "4         5     Copycat (1995)  01-Jan-1995                 NaN   \n",
              "\n",
              "                                            imdb_url  genre_unknown  Action  \\\n",
              "0  http://us.imdb.com/M/title-exact?Toy%20Story%2...              0       0   \n",
              "1  http://us.imdb.com/M/title-exact?GoldenEye%20(...              0       1   \n",
              "2  http://us.imdb.com/M/title-exact?Four%20Rooms%...              0       0   \n",
              "3  http://us.imdb.com/M/title-exact?Get%20Shorty%...              0       1   \n",
              "4  http://us.imdb.com/M/title-exact?Copycat%20(1995)              0       0   \n",
              "\n",
              "   Adventure  Animation  Children  ...  Fantasy  Film-Noir  Horror  Musical  \\\n",
              "0          0          1         1  ...        0          0       0        0   \n",
              "1          1          0         0  ...        0          0       0        0   \n",
              "2          0          0         0  ...        0          0       0        0   \n",
              "3          0          0         0  ...        0          0       0        0   \n",
              "4          0          0         0  ...        0          0       0        0   \n",
              "\n",
              "   Mystery  Romance  Sci-Fi  Thriller  War  Western  \n",
              "0        0        0       0         0    0        0  \n",
              "1        0        0       0         1    0        0  \n",
              "2        0        0       0         1    0        0  \n",
              "3        0        0       0         0    0        0  \n",
              "4        0        0       0         1    0        0  \n",
              "\n",
              "[5 rows x 24 columns]"
            ],
            "text/html": [
              "\n",
              "  <div id=\"df-9c76f205-e29d-467b-b2fd-5f84cc5f2841\">\n",
              "    <div class=\"colab-df-container\">\n",
              "      <div>\n",
              "<style scoped>\n",
              "    .dataframe tbody tr th:only-of-type {\n",
              "        vertical-align: middle;\n",
              "    }\n",
              "\n",
              "    .dataframe tbody tr th {\n",
              "        vertical-align: top;\n",
              "    }\n",
              "\n",
              "    .dataframe thead th {\n",
              "        text-align: right;\n",
              "    }\n",
              "</style>\n",
              "<table border=\"1\" class=\"dataframe\">\n",
              "  <thead>\n",
              "    <tr style=\"text-align: right;\">\n",
              "      <th></th>\n",
              "      <th>movie_id</th>\n",
              "      <th>title</th>\n",
              "      <th>release_date</th>\n",
              "      <th>video_release_date</th>\n",
              "      <th>imdb_url</th>\n",
              "      <th>genre_unknown</th>\n",
              "      <th>Action</th>\n",
              "      <th>Adventure</th>\n",
              "      <th>Animation</th>\n",
              "      <th>Children</th>\n",
              "      <th>...</th>\n",
              "      <th>Fantasy</th>\n",
              "      <th>Film-Noir</th>\n",
              "      <th>Horror</th>\n",
              "      <th>Musical</th>\n",
              "      <th>Mystery</th>\n",
              "      <th>Romance</th>\n",
              "      <th>Sci-Fi</th>\n",
              "      <th>Thriller</th>\n",
              "      <th>War</th>\n",
              "      <th>Western</th>\n",
              "    </tr>\n",
              "  </thead>\n",
              "  <tbody>\n",
              "    <tr>\n",
              "      <th>0</th>\n",
              "      <td>1</td>\n",
              "      <td>Toy Story (1995)</td>\n",
              "      <td>01-Jan-1995</td>\n",
              "      <td>NaN</td>\n",
              "      <td>http://us.imdb.com/M/title-exact?Toy%20Story%2...</td>\n",
              "      <td>0</td>\n",
              "      <td>0</td>\n",
              "      <td>0</td>\n",
              "      <td>1</td>\n",
              "      <td>1</td>\n",
              "      <td>...</td>\n",
              "      <td>0</td>\n",
              "      <td>0</td>\n",
              "      <td>0</td>\n",
              "      <td>0</td>\n",
              "      <td>0</td>\n",
              "      <td>0</td>\n",
              "      <td>0</td>\n",
              "      <td>0</td>\n",
              "      <td>0</td>\n",
              "      <td>0</td>\n",
              "    </tr>\n",
              "    <tr>\n",
              "      <th>1</th>\n",
              "      <td>2</td>\n",
              "      <td>GoldenEye (1995)</td>\n",
              "      <td>01-Jan-1995</td>\n",
              "      <td>NaN</td>\n",
              "      <td>http://us.imdb.com/M/title-exact?GoldenEye%20(...</td>\n",
              "      <td>0</td>\n",
              "      <td>1</td>\n",
              "      <td>1</td>\n",
              "      <td>0</td>\n",
              "      <td>0</td>\n",
              "      <td>...</td>\n",
              "      <td>0</td>\n",
              "      <td>0</td>\n",
              "      <td>0</td>\n",
              "      <td>0</td>\n",
              "      <td>0</td>\n",
              "      <td>0</td>\n",
              "      <td>0</td>\n",
              "      <td>1</td>\n",
              "      <td>0</td>\n",
              "      <td>0</td>\n",
              "    </tr>\n",
              "    <tr>\n",
              "      <th>2</th>\n",
              "      <td>3</td>\n",
              "      <td>Four Rooms (1995)</td>\n",
              "      <td>01-Jan-1995</td>\n",
              "      <td>NaN</td>\n",
              "      <td>http://us.imdb.com/M/title-exact?Four%20Rooms%...</td>\n",
              "      <td>0</td>\n",
              "      <td>0</td>\n",
              "      <td>0</td>\n",
              "      <td>0</td>\n",
              "      <td>0</td>\n",
              "      <td>...</td>\n",
              "      <td>0</td>\n",
              "      <td>0</td>\n",
              "      <td>0</td>\n",
              "      <td>0</td>\n",
              "      <td>0</td>\n",
              "      <td>0</td>\n",
              "      <td>0</td>\n",
              "      <td>1</td>\n",
              "      <td>0</td>\n",
              "      <td>0</td>\n",
              "    </tr>\n",
              "    <tr>\n",
              "      <th>3</th>\n",
              "      <td>4</td>\n",
              "      <td>Get Shorty (1995)</td>\n",
              "      <td>01-Jan-1995</td>\n",
              "      <td>NaN</td>\n",
              "      <td>http://us.imdb.com/M/title-exact?Get%20Shorty%...</td>\n",
              "      <td>0</td>\n",
              "      <td>1</td>\n",
              "      <td>0</td>\n",
              "      <td>0</td>\n",
              "      <td>0</td>\n",
              "      <td>...</td>\n",
              "      <td>0</td>\n",
              "      <td>0</td>\n",
              "      <td>0</td>\n",
              "      <td>0</td>\n",
              "      <td>0</td>\n",
              "      <td>0</td>\n",
              "      <td>0</td>\n",
              "      <td>0</td>\n",
              "      <td>0</td>\n",
              "      <td>0</td>\n",
              "    </tr>\n",
              "    <tr>\n",
              "      <th>4</th>\n",
              "      <td>5</td>\n",
              "      <td>Copycat (1995)</td>\n",
              "      <td>01-Jan-1995</td>\n",
              "      <td>NaN</td>\n",
              "      <td>http://us.imdb.com/M/title-exact?Copycat%20(1995)</td>\n",
              "      <td>0</td>\n",
              "      <td>0</td>\n",
              "      <td>0</td>\n",
              "      <td>0</td>\n",
              "      <td>0</td>\n",
              "      <td>...</td>\n",
              "      <td>0</td>\n",
              "      <td>0</td>\n",
              "      <td>0</td>\n",
              "      <td>0</td>\n",
              "      <td>0</td>\n",
              "      <td>0</td>\n",
              "      <td>0</td>\n",
              "      <td>1</td>\n",
              "      <td>0</td>\n",
              "      <td>0</td>\n",
              "    </tr>\n",
              "  </tbody>\n",
              "</table>\n",
              "<p>5 rows × 24 columns</p>\n",
              "</div>\n",
              "      <button class=\"colab-df-convert\" onclick=\"convertToInteractive('df-9c76f205-e29d-467b-b2fd-5f84cc5f2841')\"\n",
              "              title=\"Convert this dataframe to an interactive table.\"\n",
              "              style=\"display:none;\">\n",
              "        \n",
              "  <svg xmlns=\"http://www.w3.org/2000/svg\" height=\"24px\"viewBox=\"0 0 24 24\"\n",
              "       width=\"24px\">\n",
              "    <path d=\"M0 0h24v24H0V0z\" fill=\"none\"/>\n",
              "    <path d=\"M18.56 5.44l.94 2.06.94-2.06 2.06-.94-2.06-.94-.94-2.06-.94 2.06-2.06.94zm-11 1L8.5 8.5l.94-2.06 2.06-.94-2.06-.94L8.5 2.5l-.94 2.06-2.06.94zm10 10l.94 2.06.94-2.06 2.06-.94-2.06-.94-.94-2.06-.94 2.06-2.06.94z\"/><path d=\"M17.41 7.96l-1.37-1.37c-.4-.4-.92-.59-1.43-.59-.52 0-1.04.2-1.43.59L10.3 9.45l-7.72 7.72c-.78.78-.78 2.05 0 2.83L4 21.41c.39.39.9.59 1.41.59.51 0 1.02-.2 1.41-.59l7.78-7.78 2.81-2.81c.8-.78.8-2.07 0-2.86zM5.41 20L4 18.59l7.72-7.72 1.47 1.35L5.41 20z\"/>\n",
              "  </svg>\n",
              "      </button>\n",
              "      \n",
              "  <style>\n",
              "    .colab-df-container {\n",
              "      display:flex;\n",
              "      flex-wrap:wrap;\n",
              "      gap: 12px;\n",
              "    }\n",
              "\n",
              "    .colab-df-convert {\n",
              "      background-color: #E8F0FE;\n",
              "      border: none;\n",
              "      border-radius: 50%;\n",
              "      cursor: pointer;\n",
              "      display: none;\n",
              "      fill: #1967D2;\n",
              "      height: 32px;\n",
              "      padding: 0 0 0 0;\n",
              "      width: 32px;\n",
              "    }\n",
              "\n",
              "    .colab-df-convert:hover {\n",
              "      background-color: #E2EBFA;\n",
              "      box-shadow: 0px 1px 2px rgba(60, 64, 67, 0.3), 0px 1px 3px 1px rgba(60, 64, 67, 0.15);\n",
              "      fill: #174EA6;\n",
              "    }\n",
              "\n",
              "    [theme=dark] .colab-df-convert {\n",
              "      background-color: #3B4455;\n",
              "      fill: #D2E3FC;\n",
              "    }\n",
              "\n",
              "    [theme=dark] .colab-df-convert:hover {\n",
              "      background-color: #434B5C;\n",
              "      box-shadow: 0px 1px 3px 1px rgba(0, 0, 0, 0.15);\n",
              "      filter: drop-shadow(0px 1px 2px rgba(0, 0, 0, 0.3));\n",
              "      fill: #FFFFFF;\n",
              "    }\n",
              "  </style>\n",
              "\n",
              "      <script>\n",
              "        const buttonEl =\n",
              "          document.querySelector('#df-9c76f205-e29d-467b-b2fd-5f84cc5f2841 button.colab-df-convert');\n",
              "        buttonEl.style.display =\n",
              "          google.colab.kernel.accessAllowed ? 'block' : 'none';\n",
              "\n",
              "        async function convertToInteractive(key) {\n",
              "          const element = document.querySelector('#df-9c76f205-e29d-467b-b2fd-5f84cc5f2841');\n",
              "          const dataTable =\n",
              "            await google.colab.kernel.invokeFunction('convertToInteractive',\n",
              "                                                     [key], {});\n",
              "          if (!dataTable) return;\n",
              "\n",
              "          const docLinkHtml = 'Like what you see? Visit the ' +\n",
              "            '<a target=\"_blank\" href=https://colab.research.google.com/notebooks/data_table.ipynb>data table notebook</a>'\n",
              "            + ' to learn more about interactive tables.';\n",
              "          element.innerHTML = '';\n",
              "          dataTable['output_type'] = 'display_data';\n",
              "          await google.colab.output.renderOutput(dataTable, element);\n",
              "          const docLink = document.createElement('div');\n",
              "          docLink.innerHTML = docLinkHtml;\n",
              "          element.appendChild(docLink);\n",
              "        }\n",
              "      </script>\n",
              "    </div>\n",
              "  </div>\n",
              "  "
            ]
          },
          "metadata": {},
          "execution_count": 6
        }
      ]
    },
    {
      "cell_type": "code",
      "source": [
        "# For each movie, get a set of users who rated it highly (4 or 5)\n",
        "filtered_ratings = ratings[ratings['rating']>=4]\n",
        "print(filtered_ratings.shape)\n",
        "\n",
        "filtered_ratings\n",
        "\n",
        "gp = filtered_ratings.groupby(['movie_id']).agg({'user_id': lambda x: set(x)}).reset_index()# reset_index used to make movie_id as a column instead of a Pandas index\n",
        "print(gp)"
      ],
      "metadata": {
        "colab": {
          "base_uri": "https://localhost:8080/"
        },
        "id": "89S1NKt23XHD",
        "outputId": "3c004a01-bb84-46eb-d127-e4e9132ece69"
      },
      "execution_count": null,
      "outputs": [
        {
          "output_type": "stream",
          "name": "stdout",
          "text": [
            "(55375, 4)\n",
            "      movie_id                                            user_id\n",
            "0            1  {1, 2, 5, 6, 10, 16, 17, 18, 21, 23, 25, 38, 4...\n",
            "1            2  {256, 640, 130, 387, 642, 648, 393, 276, 532, ...\n",
            "2            3  {1, 130, 267, 523, 534, 663, 793, 923, 417, 55...\n",
            "3            4  {514, 7, 10, 12, 13, 524, 16, 19, 532, 22, 543...\n",
            "4            5  {256, 130, 388, 648, 776, 907, 270, 405, 406, ...\n",
            "...        ...                                                ...\n",
            "1442      1656                                              {883}\n",
            "1443      1658                                              {894}\n",
            "1444      1662                                              {782}\n",
            "1445      1664                                    {880, 870, 782}\n",
            "1446      1674                                              {840}\n",
            "\n",
            "[1447 rows x 2 columns]\n"
          ]
        }
      ]
    },
    {
      "cell_type": "code",
      "source": [
        "gp.shape"
      ],
      "metadata": {
        "colab": {
          "base_uri": "https://localhost:8080/"
        },
        "id": "mw-gaxJ_ztjO",
        "outputId": "7a05637e-8759-44f9-8c58-d2ec8e1718aa"
      },
      "execution_count": null,
      "outputs": [
        {
          "output_type": "execute_result",
          "data": {
            "text/plain": [
              "(1447, 2)"
            ]
          },
          "metadata": {},
          "execution_count": 8
        }
      ]
    },
    {
      "cell_type": "code",
      "source": [
        "# Use only those movies that are liked by atleast 20 users: NON-Optimized code\n",
        "for i in range(gp.shape[0]):\n",
        "  if len((gp.user_id)[i]) < 20:\n",
        "    gp.drop(i, axis=0, inplace=True)"
      ],
      "metadata": {
        "id": "zAO9MZyo3ZA9"
      },
      "execution_count": null,
      "outputs": []
    },
    {
      "cell_type": "code",
      "source": [
        "gp.shape"
      ],
      "metadata": {
        "colab": {
          "base_uri": "https://localhost:8080/"
        },
        "id": "BFYWByi33a-5",
        "outputId": "7d625a49-32c3-4d0e-f1f0-4907d7014b96"
      },
      "execution_count": null,
      "outputs": [
        {
          "output_type": "execute_result",
          "data": {
            "text/plain": [
              "(621, 2)"
            ]
          },
          "metadata": {},
          "execution_count": 10
        }
      ]
    },
    {
      "cell_type": "code",
      "source": [
        "print(gp)"
      ],
      "metadata": {
        "colab": {
          "base_uri": "https://localhost:8080/"
        },
        "id": "l9RNjwTV3csE",
        "outputId": "df1f04ed-86bb-47cd-d7ef-91c22d305a8e"
      },
      "execution_count": null,
      "outputs": [
        {
          "output_type": "stream",
          "name": "stdout",
          "text": [
            "      movie_id                                            user_id\n",
            "0            1  {1, 2, 5, 6, 10, 16, 17, 18, 21, 23, 25, 38, 4...\n",
            "1            2  {256, 640, 130, 387, 642, 648, 393, 276, 532, ...\n",
            "2            3  {1, 130, 267, 523, 534, 663, 793, 923, 417, 55...\n",
            "3            4  {514, 7, 10, 12, 13, 524, 16, 19, 532, 22, 543...\n",
            "4            5  {256, 130, 388, 648, 776, 907, 270, 405, 406, ...\n",
            "...        ...                                                ...\n",
            "1084      1119  {907, 398, 270, 659, 532, 790, 796, 416, 299, ...\n",
            "1102      1137  {257, 399, 918, 919, 568, 184, 63, 192, 201, 7...\n",
            "1107      1142  {130, 903, 136, 392, 144, 533, 793, 160, 292, ...\n",
            "1152      1194  {655, 916, 406, 409, 286, 543, 553, 440, 321, ...\n",
            "1155      1197  {144, 277, 151, 792, 919, 411, 160, 168, 178, ...\n",
            "\n",
            "[621 rows x 2 columns]\n"
          ]
        }
      ]
    },
    {
      "cell_type": "code",
      "source": [
        "type(gp.iloc[0]['user_id'])"
      ],
      "metadata": {
        "colab": {
          "base_uri": "https://localhost:8080/"
        },
        "id": "nqnSuo3t3eF_",
        "outputId": "ae716129-23b6-43b0-fdd7-3188f4067b41"
      },
      "execution_count": null,
      "outputs": [
        {
          "output_type": "execute_result",
          "data": {
            "text/plain": [
              "set"
            ]
          },
          "metadata": {},
          "execution_count": 12
        }
      ]
    },
    {
      "cell_type": "code",
      "source": [
        "# For each movie, get similar movieS using Intersection over union(IoU)\n",
        "# Code written for understandability rather than speed.\n",
        "# This takes a while to run\n",
        "\n",
        "movie_ids = list(gp.movie_id) \n",
        "similar_movies= {} # empty dictionary\n",
        "\n",
        "cnt =0;\n",
        "\n",
        "for movie_id in movie_ids:\n",
        "  print(movie_id)\n",
        "  # compute the IoU for this movie_id and others\n",
        "  l = [] # list of tuples of each movie and IoU\n",
        "  for i in range(gp.shape[0]):\n",
        "    x = gp[ gp['movie_id'] == movie_id ]['user_id'].to_list()[0]\n",
        "    y = gp.iloc[i]['user_id']\n",
        "    \n",
        "    t = (gp.iloc[i]['movie_id'], len(x & y)/len(x | y)) # (movie_id_i,IoU)\n",
        "    l.append(t)\n",
        "\n",
        "  similar_movies[movie_id] = l"
      ],
      "metadata": {
        "id": "eWmjZazm3f5i"
      },
      "execution_count": null,
      "outputs": []
    },
    {
      "cell_type": "code",
      "source": [
        "# similar movies\n",
        "idx = 1\n",
        "\n",
        "l = similar_movies[idx]\n",
        "\n",
        "# sort by similarities\n",
        "l.sort(key = lambda x: x[1], reverse=True)\n",
        "\n",
        "print(\"Given movie:\")\n",
        "print(movies[movies['movie_id']==idx][\"title\"])\n",
        "print(\"*****************************\")\n",
        "print(\"Top-5 similar movies:\")\n",
        "print(movies[movies['movie_id']==l[0][0]][\"title\"])\n",
        "print(movies[movies['movie_id']==l[1][0]][\"title\"])\n",
        "print(movies[movies['movie_id']==l[2][0]][\"title\"])\n",
        "print(movies[movies['movie_id']==l[3][0]][\"title\"])\n",
        "print(movies[movies['movie_id']==l[4][0]][\"title\"])"
      ],
      "metadata": {
        "colab": {
          "base_uri": "https://localhost:8080/"
        },
        "id": "nFiFT4i53ikd",
        "outputId": "f43252d3-b741-4426-ccf2-7612e83abcae"
      },
      "execution_count": null,
      "outputs": [
        {
          "output_type": "stream",
          "name": "stdout",
          "text": [
            "Given movie:\n",
            "0    Toy Story (1995)\n",
            "Name: title, dtype: object\n",
            "*****************************\n",
            "Top-5 similar movies:\n",
            "0    Toy Story (1995)\n",
            "Name: title, dtype: object\n",
            "49    Star Wars (1977)\n",
            "Name: title, dtype: object\n",
            "180    Return of the Jedi (1983)\n",
            "Name: title, dtype: object\n",
            "173    Raiders of the Lost Ark (1981)\n",
            "Name: title, dtype: object\n",
            "171    Empire Strikes Back, The (1980)\n",
            "Name: title, dtype: object\n"
          ]
        }
      ]
    },
    {
      "cell_type": "code",
      "source": [
        "print(l)"
      ],
      "metadata": {
        "id": "tq99H5993mGP",
        "colab": {
          "base_uri": "https://localhost:8080/"
        },
        "outputId": "6fc3170b-f882-40d6-a95f-03a96f3c6344"
      },
      "execution_count": null,
      "outputs": [
        {
          "output_type": "stream",
          "name": "stdout",
          "text": [
            "[(1, 1.0), (50, 0.4295652173913043), (181, 0.39165009940357853), (174, 0.3487903225806452), (172, 0.33769063180827885), (100, 0.3315018315018315), (98, 0.3247011952191235), (121, 0.3228915662650602), (117, 0.32), (7, 0.3182844243792325), (69, 0.3156626506024096), (237, 0.3125), (222, 0.3099273607748184), (28, 0.30904522613065327), (79, 0.3087248322147651), (127, 0.29980657640232106), (204, 0.29906542056074764), (210, 0.29906542056074764), (64, 0.2972972972972973), (168, 0.2942528735632184), (173, 0.29318181818181815), (318, 0.2907488986784141), (257, 0.2825), (588, 0.28212290502793297), (151, 0.2814070351758794), (22, 0.2800925925925926), (176, 0.27951807228915665), (96, 0.2780373831775701), (95, 0.2774725274725275), (56, 0.27593360995850624), (195, 0.2718676122931442), (423, 0.2713936430317848), (82, 0.2677165354330709), (71, 0.2569060773480663), (183, 0.25635103926096997), (742, 0.2559366754617414), (496, 0.25252525252525254), (202, 0.25), (265, 0.24867724867724866), (15, 0.24754901960784315), (228, 0.24538258575197888), (12, 0.24269662921348314), (132, 0.24257425742574257), (191, 0.24145785876993167), (196, 0.2371638141809291), (357, 0.23542600896860988), (216, 0.23488372093023255), (111, 0.23421052631578948), (8, 0.23316062176165803), (89, 0.2328767123287671), (405, 0.23177083333333334), (294, 0.23040380047505937), (97, 0.22921914357682618), (568, 0.2275132275132275), (483, 0.22602739726027396), (186, 0.22556390977443608), (275, 0.22453703703703703), (11, 0.22305764411027568), (9, 0.22298850574712645), (194, 0.22141119221411193), (25, 0.2210796915167095), (153, 0.22025316455696203), (144, 0.22), (234, 0.21980676328502416), (258, 0.21794871794871795), (471, 0.215633423180593), (70, 0.21518987341772153), (655, 0.21483375959079284), (143, 0.21108179419525067), (276, 0.2109004739336493), (238, 0.20581113801452786), (118, 0.20430107526881722), (282, 0.20157068062827224), (427, 0.20093457943925233), (125, 0.1989247311827957), (182, 0.19753086419753085), (527, 0.19743589743589743), (208, 0.19689119170984457), (135, 0.1952941176470588), (88, 0.19518716577540107), (313, 0.19094488188976377), (475, 0.19002375296912113), (99, 0.18926553672316385), (288, 0.18867924528301888), (393, 0.1875), (408, 0.18591549295774648), (83, 0.18556701030927836), (187, 0.18446601941747573), (732, 0.18282548476454294), (147, 0.1797752808988764), (385, 0.17962466487935658), (215, 0.17894736842105263), (197, 0.17824074074074073), (432, 0.1771117166212534), (169, 0.17679558011049723), (161, 0.1766304347826087), (300, 0.17659137577002054), (124, 0.17424242424242425), (203, 0.17402597402597403), (603, 0.1740139211136891), (230, 0.17318435754189945), (419, 0.17166212534059946), (435, 0.1707920792079208), (845, 0.16954022988505746), (134, 0.1694915254237288), (403, 0.16897506925207756), (4, 0.16886543535620052), (298, 0.16883116883116883), (185, 0.16859122401847576), (286, 0.16792452830188678), (274, 0.16759776536312848), (175, 0.16751269035532995), (180, 0.1674641148325359), (474, 0.16707616707616707), (211, 0.16502463054187191), (418, 0.16467065868263472), (179, 0.16464891041162227), (515, 0.16428571428571428), (200, 0.16326530612244897), (209, 0.16326530612244897), (31, 0.16292134831460675), (58, 0.16164383561643836), (250, 0.16129032258064516), (651, 0.16112531969309463), (223, 0.15915119363395225), (480, 0.15853658536585366), (523, 0.15544041450777202), (273, 0.15526315789473685), (156, 0.15508021390374332), (692, 0.15426997245179064), (268, 0.15384615384615385), (248, 0.15363881401617252), (133, 0.15303430079155672), (508, 0.15012722646310434), (479, 0.15), (684, 0.1497326203208556), (87, 0.14835164835164835), (511, 0.1477832512315271), (193, 0.14775725593667546), (23, 0.14742014742014742), (501, 0.14714714714714713), (498, 0.14690721649484537), (150, 0.14673913043478262), (367, 0.14647887323943662), (402, 0.14647887323943662), (199, 0.14536340852130325), (91, 0.14488636363636365), (24, 0.14166666666666666), (164, 0.1404494382022472), (188, 0.14016172506738545), (566, 0.13858695652173914), (14, 0.13784461152882205), (546, 0.13774104683195593), (735, 0.13774104683195593), (431, 0.13725490196078433), (269, 0.13598326359832635), (591, 0.1347708894878706), (178, 0.1345646437994723), (190, 0.13440860215053763), (293, 0.13440860215053763), (433, 0.13368983957219252), (284, 0.13352272727272727), (443, 0.13192612137203166), (404, 0.13095238095238096), (66, 0.1309192200557103), (154, 0.13066666666666665), (283, 0.13054830287206268), (42, 0.13008130081300814), (129, 0.1298342541436464), (137, 0.12919896640826872), (255, 0.12849162011173185), (246, 0.1284153005464481), (227, 0.1278409090909091), (218, 0.12777777777777777), (235, 0.12759643916913946), (86, 0.12727272727272726), (328, 0.12709832134292565), (157, 0.12640449438202248), (239, 0.12535612535612536), (705, 0.12533333333333332), (748, 0.125), (520, 0.12432432432432433), (451, 0.12396694214876033), (410, 0.1225071225071225), (763, 0.12215909090909091), (48, 0.12096774193548387), (739, 0.12078651685393259), (509, 0.12054794520547946), (1039, 0.12034383954154727), (198, 0.12032085561497326), (582, 0.12032085561497326), (628, 0.11924119241192412), (285, 0.11893203883495146), (531, 0.11891891891891893), (484, 0.11886304909560723), (13, 0.11859838274932614), (136, 0.11813186813186813), (68, 0.11781609195402298), (746, 0.11781609195402298), (1016, 0.11781609195402298), (969, 0.11676646706586827), (654, 0.11627906976744186), (1012, 0.11627906976744186), (205, 0.11590296495956873), (660, 0.11590296495956873), (177, 0.11559139784946236), (302, 0.11553784860557768), (596, 0.11538461538461539), (55, 0.11466666666666667), (526, 0.11294765840220386), (455, 0.11206896551724138), (514, 0.11166253101736973), (462, 0.11052631578947368), (631, 0.11048158640226628), (657, 0.10997442455242967), (189, 0.10979228486646884), (109, 0.10857142857142857), (73, 0.1072463768115942), (81, 0.1072463768115942), (478, 0.10684931506849316), (72, 0.10682492581602374), (333, 0.1066350710900474), (597, 0.10644257703081232), (465, 0.10510510510510511), (47, 0.10497237569060773), (482, 0.10427807486631016), (123, 0.10416666666666667), (240, 0.10416666666666667), (77, 0.10404624277456648), (226, 0.10393258426966293), (472, 0.10385756676557864), (663, 0.10382513661202186), (192, 0.10372340425531915), (378, 0.10315186246418338), (485, 0.10220994475138122), (504, 0.10220994475138122), (659, 0.10215053763440861), (420, 0.10149253731343283), (411, 0.10089020771513353), (126, 0.10057471264367816), (229, 0.1), (528, 0.1), (447, 0.09971509971509972), (477, 0.09939759036144578), (94, 0.09792284866468842), (114, 0.09770114942528736), (470, 0.09770114942528736), (272, 0.09728506787330317), (429, 0.09722222222222222), (866, 0.09705882352941177), (428, 0.09703504043126684), (510, 0.09703504043126684), (317, 0.09695290858725762), (214, 0.09649122807017543), (93, 0.09641873278236915), (685, 0.09577464788732394), (425, 0.09565217391304348), (919, 0.09401709401709402), (170, 0.09399477806788512), (699, 0.09375), (430, 0.09295774647887324), (521, 0.09264305177111716), (65, 0.09243697478991597), (291, 0.09169054441260745), (184, 0.09116809116809117), (709, 0.09090909090909091), (1028, 0.09090909090909091), (301, 0.09), (421, 0.0898876404494382), (252, 0.08875739644970414), (116, 0.08823529411764706), (993, 0.08814589665653495), (2, 0.08771929824561403), (380, 0.08771929824561403), (550, 0.08707865168539326), (52, 0.08645533141210375), (473, 0.08630952380952381), (241, 0.08611111111111111), (233, 0.08595988538681948), (756, 0.08484848484848485), (92, 0.08450704225352113), (148, 0.08187134502923976), (633, 0.08163265306122448), (476, 0.08115942028985507), (549, 0.08115942028985507), (249, 0.08069164265129683), (67, 0.08011869436201781), (245, 0.08), (51, 0.07964601769911504), (217, 0.07964601769911504), (340, 0.0794044665012407), (232, 0.0790273556231003), (755, 0.07807807807807808), (163, 0.07803468208092486), (436, 0.07803468208092486), (693, 0.07803468208092486), (307, 0.07788944723618091), (54, 0.07761194029850746), (213, 0.07712082262210797), (518, 0.0764872521246459), (225, 0.0764525993883792), (382, 0.07627118644067797), (530, 0.07627118644067797), (101, 0.07621951219512195), (356, 0.07580174927113703), (652, 0.07563025210084033), (559, 0.0755813953488372), (1101, 0.07536231884057971), (162, 0.07514450867052024), (463, 0.07514450867052024), (747, 0.07514450867052024), (399, 0.07507507507507508), (304, 0.07506702412868632), (289, 0.07493540051679587), (708, 0.07471264367816093), (762, 0.07471264367816093), (315, 0.0746987951807229), (813, 0.0744047619047619), (713, 0.07418397626112759), (45, 0.07365439093484419), (751, 0.07349081364829396), (323, 0.07336956521739131), (729, 0.07331378299120235), (506, 0.07323943661971831), (287, 0.07309941520467836), (201, 0.0728862973760933), (469, 0.0728862973760933), (750, 0.07161803713527852), (5, 0.07142857142857142), (724, 0.07142857142857142), (326, 0.07086614173228346), (815, 0.07079646017699115), (62, 0.07058823529411765), (778, 0.07058823529411765), (686, 0.0705521472392638), (10, 0.07042253521126761), (792, 0.07042253521126761), (710, 0.07038123167155426), (131, 0.0700280112044818), (627, 0.06990881458966565), (1047, 0.06948640483383686), (271, 0.06940874035989718), (219, 0.06936416184971098), (928, 0.06927710843373494), (90, 0.06906906906906907), (152, 0.06896551724137931), (736, 0.06896551724137931), (381, 0.06837606837606838), (461, 0.06784660766961652), (63, 0.06769230769230769), (715, 0.06764705882352941), (281, 0.06647398843930635), (49, 0.06626506024096386), (519, 0.06593406593406594), (155, 0.06567164179104477), (495, 0.06567164179104477), (277, 0.06547619047619048), (449, 0.06547619047619048), (529, 0.0653950953678474), (39, 0.06528189910979229), (44, 0.06528189910979229), (141, 0.06528189910979229), (939, 0.06528189910979229), (525, 0.06515580736543909), (160, 0.0650887573964497), (924, 0.06489675516224189), (319, 0.06451612903225806), (584, 0.06432748538011696), (497, 0.0641399416909621), (1035, 0.06402439024390244), (491, 0.06395348837209303), (770, 0.06382978723404255), (673, 0.06376811594202898), (642, 0.06358381502890173), (280, 0.06306306306306306), (629, 0.06306306306306306), (1014, 0.06306306306306306), (648, 0.06303724928366762), (507, 0.06284153005464481), (636, 0.0626865671641791), (487, 0.06267806267806268), (290, 0.0625), (242, 0.06217616580310881), (322, 0.06166219839142091), (486, 0.06158357771260997), (409, 0.060790273556231005), (625, 0.060790273556231005), (720, 0.06042296072507553), (576, 0.060240963855421686), (416, 0.06006006006006006), (33, 0.06), (128, 0.059880239520958084), (578, 0.059880239520958084), (959, 0.059880239520958084), (53, 0.05982905982905983), (647, 0.05965909090909091), (658, 0.05952380952380952), (32, 0.059490084985835696), (251, 0.05917159763313609), (632, 0.058997050147492625), (159, 0.058823529411764705), (316, 0.058524173027989825), (17, 0.05847953216374269), (946, 0.05846153846153846), (489, 0.05830903790087463), (38, 0.0572289156626506), (221, 0.05698005698005698), (661, 0.056910569105691054), (609, 0.05688622754491018), (3, 0.05654761904761905), (295, 0.05654761904761905), (392, 0.05621301775147929), (20, 0.05555555555555555), (270, 0.055408970976253295), (1073, 0.05491329479768786), (327, 0.05483028720626632), (140, 0.0547112462006079), (926, 0.0547112462006079), (942, 0.0547112462006079), (690, 0.0546875), (516, 0.05459770114942529), (558, 0.05459770114942529), (1098, 0.054380664652567974), (493, 0.054285714285714284), (310, 0.05426356589147287), (468, 0.05421686746987952), (864, 0.05405405405405406), (19, 0.05397727272727273), (505, 0.053824362606232294), (488, 0.05352112676056338), (679, 0.05325443786982249), (678, 0.05322128851540616), (604, 0.05234159779614325), (481, 0.05232558139534884), (102, 0.05214723926380368), (1197, 0.05198776758409786), (434, 0.05172413793103448), (59, 0.051630434782608696), (303, 0.05128205128205128), (707, 0.05113636363636364), (602, 0.050746268656716415), (1119, 0.050746268656716415), (212, 0.05070422535211268), (332, 0.050666666666666665), (466, 0.050595238095238096), (640, 0.050595238095238096), (727, 0.050445103857566766), (524, 0.05029585798816568), (346, 0.05013192612137203), (414, 0.05), (502, 0.05), (1142, 0.05), (662, 0.04985337243401759), (331, 0.049723756906077346), (517, 0.049586776859504134), (966, 0.04892966360856269), (513, 0.04891304347826087), (171, 0.04885057471264368), (615, 0.04871060171919771), (500, 0.0486322188449848), (619, 0.0486322188449848), (833, 0.0486322188449848), (844, 0.0486322188449848), (499, 0.04857142857142857), (343, 0.04843304843304843), (231, 0.04819277108433735), (581, 0.04819277108433735), (554, 0.04790419161676647), (165, 0.04788732394366197), (467, 0.047619047619047616), (387, 0.04747774480712166), (825, 0.047337278106508875), (347, 0.047244094488188976), (781, 0.047058823529411764), (963, 0.047058823529411764), (297, 0.0469208211143695), (847, 0.0469208211143695), (1011, 0.04664723032069971), (354, 0.0463768115942029), (494, 0.046242774566473986), (142, 0.046012269938650305), (366, 0.045871559633027525), (820, 0.04573170731707317), (1067, 0.045317220543806644), (206, 0.045180722891566265), (1048, 0.045180722891566265), (806, 0.04504504504504504), (589, 0.04491017964071856), (220, 0.04477611940298507), (57, 0.044642857142857144), (789, 0.044642857142857144), (921, 0.04424778761061947), (458, 0.043859649122807015), (650, 0.0436046511627907), (512, 0.043227665706051875), (29, 0.04281345565749235), (595, 0.04281345565749235), (292, 0.042666666666666665), (895, 0.04261363636363636), (306, 0.0425531914893617), (772, 0.04242424242424243), (417, 0.04229607250755287), (649, 0.04229607250755287), (606, 0.04225352112676056), (696, 0.042042042042042045), (236, 0.041916167664670656), (721, 0.041916167664670656), (949, 0.041791044776119404), (676, 0.04142011834319527), (1065, 0.04142011834319527), (321, 0.04132231404958678), (694, 0.041176470588235294), (260, 0.04105571847507331), (544, 0.04105571847507331), (740, 0.040697674418604654), (490, 0.040345821325648415), (207, 0.04), (607, 0.03943661971830986), (790, 0.03927492447129909), (278, 0.03903903903903904), (639, 0.038922155688622756), (780, 0.038922155688622756), (76, 0.03880597014925373), (794, 0.03869047619047619), (665, 0.03857566765578635), (324, 0.03856749311294766), (956, 0.038461538461538464), (741, 0.038348082595870206), (616, 0.03812316715542522), (448, 0.0377906976744186), (61, 0.03724928366762178), (744, 0.036931818181818184), (166, 0.03672316384180791), (934, 0.0364741641337386), (107, 0.03625377643504532), (1041, 0.03625377643504532), (108, 0.036036036036036036), (612, 0.036036036036036036), (1019, 0.036036036036036036), (1050, 0.036036036036036036), (371, 0.03571428571428571), (955, 0.03571428571428571), (945, 0.03560830860534125), (879, 0.03551912568306011), (26, 0.035398230088495575), (614, 0.03529411764705882), (358, 0.03519061583577713), (325, 0.03498542274052478), (855, 0.03418803418803419), (923, 0.03418803418803419), (537, 0.03333333333333333), (106, 0.03323262839879154), (943, 0.03323262839879154), (1074, 0.03313253012048193), (856, 0.03293413173652695), (553, 0.03273809523809524), (689, 0.03197674418604651), (538, 0.03170028818443804), (1007, 0.03151862464183381), (682, 0.03142857142857143), (492, 0.03133903133903134), (262, 0.031073446327683617), (60, 0.03089887640449438), (570, 0.030211480362537766), (1008, 0.030211480362537766), (613, 0.030120481927710843), (305, 0.030054644808743168), (671, 0.03003003003003003), (503, 0.029940119760479042), (697, 0.029940119760479042), (717, 0.029940119760479042), (936, 0.029850746268656716), (1194, 0.02976190476190476), (224, 0.029411764705882353), (30, 0.02932551319648094), (638, 0.029239766081871343), (259, 0.028409090909090908), (372, 0.02710843373493976), (644, 0.02710843373493976), (338, 0.026706231454005934), (1020, 0.026706231454005934), (610, 0.026627218934911243), (611, 0.026392961876832845), (656, 0.02601156069364162), (961, 0.024024024024024024), (1137, 0.024024024024024024), (27, 0.023880597014925373), (1021, 0.02373887240356083), (653, 0.023668639053254437), (646, 0.02359882005899705), (664, 0.02359882005899705), (675, 0.023323615160349854), (1009, 0.022988505747126436), (311, 0.022222222222222223), (329, 0.020958083832335328), (716, 0.020895522388059702), (1063, 0.020895522388059702), (737, 0.020833333333333332), (971, 0.020833333333333332), (754, 0.020527859237536656), (900, 0.020527859237536656), (641, 0.02040816326530612), (334, 0.020348837209302327), (873, 0.01791044776119403), (547, 0.017857142857142856), (880, 0.01775147928994083), (922, 0.017699115044247787), (243, 0.01764705882352941), (608, 0.01764705882352941), (902, 0.017391304347826087), (344, 0.017094017094017096), (887, 0.017045454545454544), (345, 0.0169971671388102), (886, 0.01488095238095238), (937, 0.01483679525222552), (898, 0.014534883720930232), (312, 0.01440922190201729), (299, 0.011661807580174927), (896, 0.011594202898550725), (264, 0.008875739644970414), (749, 0.008875739644970414)]\n"
          ]
        }
      ]
    },
    {
      "cell_type": "code",
      "source": [],
      "metadata": {
        "id": "CuPFZJuU7CAa"
      },
      "execution_count": null,
      "outputs": []
    }
  ]
}